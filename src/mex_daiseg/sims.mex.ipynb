{
 "cells": [
  {
   "cell_type": "code",
   "execution_count": 127,
   "id": "167e83ed-9bf6-4c29-a6c4-c4fe8dc7ef90",
   "metadata": {},
   "outputs": [],
   "source": [
    "import simsmex as sms\n",
    "from importlib import reload\n",
    "import numpy as np\n",
    "import random\n",
    "import math\n",
    "from importlib import reload \n",
    "import msprime\n",
    "import pandas as pd\n",
    "import HMMmex2 as hmm\n",
    "import demes\n",
    "import demesdraw \n",
    "import EMmex2 as EM\n",
    "\n",
    "import scipy\n",
    "import scipy.optimize as optimize\n",
    "from scipy.optimize import minimize\n",
    "from numpy import linalg as LNG \n",
    "\n",
    "import matplotlib\n",
    "from matplotlib import pyplot as plt\n",
    "import seaborn\n",
    "import useful2 as usfl"
   ]
  },
  {
   "cell_type": "code",
   "execution_count": null,
   "id": "594ecb0d-e618-4f4f-b278-098dd2b18898",
   "metadata": {},
   "outputs": [],
   "source": [
    "graph = demes.load(\"demes.yml\")\n",
    "demography = msprime.Demography.from_demes(graph)\n",
    "w = demesdraw.utils.separation_heuristic(graph)\n",
    "positions = dict(Ancestral=-w, AMH=-w, AF=-w, OOA=w, EU=0, NA=2 * w, MX=w, ASIA = 2*w, NEAND = 3*w)\n",
    "ax = demesdraw.tubes(graph, log_time=True, positions=positions, labels=\"legend\")\n",
    "\n",
    "ax.figure.savefig('Mex.svg')"
   ]
  },
  {
   "cell_type": "code",
   "execution_count": 3,
   "id": "4700a0f4-f518-4771-82a4-eeed3c23392b",
   "metadata": {},
   "outputs": [],
   "source": [
    "# Generation time, mutation rate and recomination rate\n",
    "RR = 1e-8\n",
    "MU = 1.29e-8 \n",
    "GEN_time = 29.0 \n",
    "\n",
    "# Split Times\n",
    "T_NEAND_migration = 55000 #time of Neanderthal migration into Out_of_africa population\n",
    "T_NEAND_AMH = 650000 # split time between AMH and Neanderthal\n",
    "T_OOF_AF = 65700 # Out_of_Africa migration time\n",
    "T_AS_EU_split = 41997 #Asian European split\n",
    "T_AS_NA_split = 17000 # time of crossing Beringian (Nielsen et al., 2017; Mendes et al., 2020)\n",
    "T_MEX_admix = 466 # postColoumb time\n",
    "T_NEAND_samples = 38000\n",
    "\n",
    "T = np.array([T_NEAND_migration, T_NEAND_AMH, T_OOF_AF, T_AS_EU_split, T_MEX_admix])/GEN_time"
   ]
  },
  {
   "cell_type": "code",
   "execution_count": 84,
   "id": "b2a51163-439b-486e-954e-73198541bd03",
   "metadata": {},
   "outputs": [],
   "source": [
    " #   print(demography.debug()) \n",
    "n_mexicans=8\n",
    "n=250    \n",
    "len_seq=2e7\n",
    "n_neand = 8\n",
    "TS = msprime.sim_ancestry(\n",
    "        samples = \n",
    "        [       \n",
    "                msprime.SampleSet(n_mexicans, ploidy=1, population='MX'),\n",
    "                msprime.SampleSet(n, ploidy=1, population='EU'), \n",
    "                msprime.SampleSet(n, ploidy=1, population='NA'),\n",
    "                msprime.SampleSet(n, ploidy=1, population='AF'),\n",
    "                msprime.SampleSet(n, ploidy=1, population='NEAND', time = T_NEAND_samples/GEN_time)\n",
    "               \n",
    "        ],    \n",
    "        ploidy=1,    \n",
    "        sequence_length=len_seq,\n",
    "        recombination_rate=RR, \n",
    "        demography=demography,\n",
    "        record_migrations=True                                \n",
    "    )\n",
    "\n",
    "TS = msprime.sim_mutations(TS, rate=MU)"
   ]
  },
  {
   "cell_type": "code",
   "execution_count": null,
   "id": "d0f66b45-3e94-47dc-afed-50cb80c8e1b6",
   "metadata": {},
   "outputs": [],
   "source": [
    "tractsND, tractsEU, tractsNA, tractsAF = [], [], [], []\n",
    "for ind_number in range(0, n_mexicans):\n",
    "    tractsND.append(sms.get_migrating_tracts_ind(TS, \"NEAND\", ind_number, T[0]))\n",
    "    tractsEU.append(sms.get_migrating_tracts_ind(TS,\"EU\", ind_number, T[4]))\n",
    "    tractsNA.append(sms.get_migrating_tracts_ind(TS,\"NA\", ind_number, T[4]))\n",
    "    tractsAF.append(sms.get_migrating_tracts_ind(TS,\"AF\", ind_number, T[4]))\n",
    "\n",
    "    print('DOne', ind_number)    "
   ]
  },
  {
   "cell_type": "code",
   "execution_count": null,
   "id": "b0ce77f8-46e2-4226-a1f2-4971c7c5c2e9",
   "metadata": {},
   "outputs": [],
   "source": [
    "N_ref_pop_mas=[250]\n",
    "N_neanderthal=6\n",
    "\n",
    "\n",
    "for n_ref_pop in N_ref_pop_mas:\n",
    "\n",
    "    with open('make.obs.sims.'+str(n_ref_pop)+'.txt', 'w') as f:\n",
    "        f.write('#POSITIONS\\t#REF\\t#ALT\\t#ANC\\t#EU\\t#NA\\t#AF\\t#ARCHAIC\\t#MEX\\n')\n",
    "        for v in TS.variants():\n",
    "            \n",
    "            eu= str(list(set(v.genotypes[n_mexicans :( n_mexicans+n_ref_pop)]))).replace('[','').replace(']','').replace(' ','')\n",
    "            na= str(list(set(v.genotypes[n_mexicans+n :( n_mexicans+n+n_ref_pop)]))).replace('[','').replace(']','').replace(' ','')\n",
    "            af= str(list(set(v.genotypes[n_mexicans+2*n :( n_mexicans+2*n+n_ref_pop)]))).replace('[','').replace(']','').replace(' ','')\n",
    "            \n",
    "            archaic= str(list(set(v.genotypes[n_mexicans+3*n :( n_mexicans+3*n+N_neanderthal)]))).replace('[','').replace(']','').replace(' ','')\n",
    "    \n",
    "            obs=''\n",
    "            for i in v.genotypes[0 :n_mexicans]:\n",
    "                obs+=str(i)+' '\n",
    "            k=0\n",
    "            flag=[]\n",
    "            for o in v.genotypes[0 :n_mexicans]:\n",
    "                if (str(o) in eu) and  (str(o) in na) and  (str(o) in af) and (str(o) in archaic):\n",
    "                    flag.append(True)\n",
    "            if flag==[True for o in v.genotypes[0 :n_mexicans]]:\n",
    "                k+=1\n",
    "            else:\n",
    "                f.write(str(int(v.site.position))+'\\t'+str(v.alleles[0])+'\\t'+\n",
    "                        str(v.alleles[1]) + '\\t'+ str(0)+'\\t' + eu+'\\t'+na+'\\t'+af+'\\t' + archaic+'\\t'+str(obs)+'\\n')   "
   ]
  },
  {
   "cell_type": "code",
   "execution_count": 87,
   "id": "6754dbc8-fad1-4cf8-8796-496326cb3b46",
   "metadata": {},
   "outputs": [],
   "source": [
    "L=1000\n",
    "\n",
    "#create bed file\n",
    "with open('test.bed','w') as f:\n",
    "    f.write('1\\t0\\t'+str(int(len_seq)-1)+'\\n')\n",
    "\n",
    "\n",
    "\n",
    "f_bed='test.bed'\n",
    "domain=usfl.read_bed(f_bed)\n",
    "\n",
    "n_windows=(domain[-1][1]-domain[0][0])//L + 1\n",
    "windows_cover=np.ones(n_windows)\n",
    "\n",
    "#create archaic covering file. \n",
    "CHR=1\n",
    "with open('arch.covering.chr'+str(CHR)+'.txt','w') as f:\n",
    "    for j in windows_cover:\n",
    "        f.write(str(j)+'\\n')\n",
    "\n",
    "\n",
    "#create file with sample's names\n",
    "with open('samples.txt','w') as f:\n",
    "    for i in range(int(n_mexicans/2)):\n",
    "        f.write('mex'+str(i)+'\\n')        "
   ]
  },
  {
   "cell_type": "code",
   "execution_count": null,
   "id": "ce6fec6b-475d-4c2d-a974-2d96471a64f2",
   "metadata": {},
   "outputs": [],
   "source": [
    "! python3 daiseg.mex.2.py --obs_samples samples.txt --bed test.bed   --HMM_par par.file.txt --EM no --prepared_file make.obs.sims.250.txt --out_prefix out --arch_cover arch.covering.chr1.txt --transition_matrix full --obs_type simple"
   ]
  },
  {
   "cell_type": "code",
   "execution_count": null,
   "id": "44743686-4580-461a-a11a-9c54acbb5d1e",
   "metadata": {},
   "outputs": [],
   "source": [
    "Tracts_HMM=usfl.daiseg_mex_tracts('out', n_mexicans)\n",
    "\n",
    "df=sms.createDataFrameMex_main(Tracts_HMM, L, N_neanderthal, n_ref_pop,  tractsND,  tractsEU, tractsNA, tractsAF, \n",
    "                               [j for j in range(n_mexicans)])\n",
    "df"
   ]
  }
 ],
 "metadata": {
  "kernelspec": {
   "display_name": "Python 3 (ipykernel)",
   "language": "python",
   "name": "python3"
  },
  "language_info": {
   "codemirror_mode": {
    "name": "ipython",
    "version": 3
   },
   "file_extension": ".py",
   "mimetype": "text/x-python",
   "name": "python",
   "nbconvert_exporter": "python",
   "pygments_lexer": "ipython3",
   "version": "3.8.10"
  }
 },
 "nbformat": 4,
 "nbformat_minor": 5
}
