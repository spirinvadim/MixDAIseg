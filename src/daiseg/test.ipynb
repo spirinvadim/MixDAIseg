{
 "cells": [
  {
   "cell_type": "code",
   "execution_count": null,
   "id": "fdf9ccfd-e03c-4bc5-8e60-1ac63d97104f",
   "metadata": {},
   "outputs": [],
   "source": [
    "import sims\n",
    "import numpy as np\n",
    "import msprime\n",
    "import pandas as pd\n",
    "\n",
    "import useful\n",
    "import seaborn\n",
    "import matplotlib\n",
    "from matplotlib import pyplot as plt\n",
    "from importlib import reload\n"
   ]
  },
  {
   "cell_type": "code",
   "execution_count": null,
   "id": "5222edba-8556-40ed-b457-5b9721bd67a1",
   "metadata": {},
   "outputs": [],
   "source": [
    "# Generation time, mutation rate and recomination rate\n",
    "RR = 1e-8\n",
    "MU = 1.29e-8 \n",
    "GEN_time = 29.0 \n",
    "\n",
    "# Split Times\n",
    "T_NEAND_migration = 55000 #time of Neanderthal migration into Out_of_africa population\n",
    "T_NEAND_AMH = 550000 # split time between AMH and Neanderthal\n",
    "T_OOF_AF = 65700 # Out_of_Africa migration time\n",
    "T_NEAND_samples = 38000\n",
    "\n",
    "# Effective population size\n",
    "N_ANC = 18500 # N_e of common  AMH and NEanderthal population \n",
    "N_ND = 3400 # N_e of Neanderthal\n",
    "N_AMH = 23000 # N_e of AMH\n",
    "N_OOF = 1861 # N_e of Out_of_Africa population\n",
    "N_AF = 27600 # N_e of Africans\n",
    "N_EU = 13377 #N_e of Europeans\n",
    "\n",
    "N_EU_bottleneck = 1080\n",
    "N_EU_growth = 1450\n",
    "T_EU_growth = 31900\n",
    "gr_rate = 0.00202\n",
    "Portion_admix = 0.03\n",
    "\n",
    "len_sequence = 1e7 # DNA sequence length\n",
    "\n",
    "n = 500 # number of generated   AF samples\n",
    "n_neand = 10 #number of generated Neanderthals\n",
    "\n",
    "rand_sd =1234 #random seed\n",
    "\n",
    "\n",
    "\n",
    "T = np.array([T_NEAND_migration, T_NEAND_AMH, T_OOF_AF])/GEN_time"
   ]
  },
  {
   "cell_type": "code",
   "execution_count": null,
   "id": "3f3093ce-6e0e-4cc9-95d4-9560763a3b02",
   "metadata": {},
   "outputs": [],
   "source": [
    "N_ND = 3400 # N_e of Neanderthal\n",
    "N_e = np.array([N_ANC, N_ND, N_AMH, N_OOF, N_AF, N_EU])\n",
    "\n",
    "n_eu=1\n",
    "ploidy=2\n",
    "ts =sims.history_archaic(GEN_time, len_sequence, RR, MU, N_e, T,  n, rand_sd, n_neand,  \n",
    "                          T_NEAND_samples/GEN_time, n_eu, N_EU_growth, \n",
    "                          T_EU_growth/GEN_time, N_EU_bottleneck, gr_rate, Portion_admix, ploidy)\n",
    "sims.print_neand_dosages(ts)"
   ]
  },
  {
   "cell_type": "code",
   "execution_count": null,
   "id": "9a3fe960-36b6-4449-b708-834814adfe50",
   "metadata": {},
   "outputs": [],
   "source": [
    "ND_true_tracts=sims.real_nd_tracts(ts, n_eu, ploidy,T)\n",
    "#np.save('ND_true_tracts.npy', np.array(ND_true_tracts, dtype= object))\n",
    "#np.load(\"ND_true_tracts.npy\", allow_pickle= True)"
   ]
  },
  {
   "cell_type": "code",
   "execution_count": null,
   "id": "cdbb589b-810c-499d-8ba3-054cc1d81ec0",
   "metadata": {},
   "outputs": [],
   "source": [
    "N_ref_pop=100 #reference African haplotypes \n",
    "N_neanderthal=6\n",
    "L=1000 #basic window length\n",
    "N=2 #number of HMM hidden states\n",
    "sims.create_obs_txt('obs.txt', ploidy, n_eu, ts, N_ref_pop, N_neanderthal, n) #'obs.txt' file with observations\n",
    "sims.create_bed_smpls_arch_cov('samples.txt', 'test.bed', 'arch.cover.txt', len_sequence, 0.999, 1, n_eu, ploidy) \n",
    "#samples.txt file with haplotype names,\n",
    "#test.bed bed file "
   ]
  },
  {
   "cell_type": "code",
   "execution_count": null,
   "id": "9ef2fb07-677a-4ca1-9c9d-7c6a2ec3985b",
   "metadata": {},
   "outputs": [],
   "source": [
    "! python3 dai.seg.py --obs_samples samples.txt --bed test.bed   --HMM_par par.file.txt --EM no --prepared_file obs.txt --o out --arch_cover arch.cover.txt --decoding posterior --cut_off 0.8"
   ]
  },
  {
   "cell_type": "code",
   "execution_count": null,
   "id": "2e216879-137f-41db-b6f4-a3d728c2edab",
   "metadata": {},
   "outputs": [],
   "source": [
    "! python3 dai.seg.py --obs_samples samples.txt --bed test.bed   --HMM_par par.file.txt --EM yes --EM_samples 1 --EM_steps 10 --prepared_file obs.txt --o out.EM --arch_cover arch.cover.txt --decoding posterior --cut_off 0.8"
   ]
  },
  {
   "cell_type": "code",
   "execution_count": null,
   "id": "531eb9d9-8ce6-439b-84bc-10449fd4ed5e",
   "metadata": {},
   "outputs": [],
   "source": [
    "! python3 dai.seg.py --obs_samples samples.txt --bed test.bed   --HMM_par par.file.txt --EM no --prepared_file obs.txt --o out.viterbi --arch_cover arch.cover.txt --decoding viterbi"
   ]
  },
  {
   "cell_type": "code",
   "execution_count": null,
   "id": "f9e8b352-112d-4e69-96bb-722a614636bb",
   "metadata": {},
   "outputs": [],
   "source": [
    "\n",
    "ND_HMM_tracts=useful.read_out('out.archaic.txt')\n",
    "\n",
    "HMM_tracts=[]\n",
    "REAL_tracts=[]\n",
    "for idx in range(ploidy*n_eu):\n",
    "    HMM_tracts.append([useful.tracts_eu(ND_HMM_tracts[idx], len_sequence ), ND_HMM_tracts[idx]])\n",
    "    REAL_tracts.append([ useful.tracts_eu(ND_true_tracts[idx], len_sequence), ND_true_tracts[idx]])\n",
    "\n",
    "\n",
    "\n",
    "df=sims.df_result(REAL_tracts, HMM_tracts, N_neanderthal, L, N_ref_pop, n_eu, N, ploidy)\n",
    "df"
   ]
  },
  {
   "cell_type": "code",
   "execution_count": null,
   "id": "2d9dd682-2d7c-4e63-bf58-386b42ee64e7",
   "metadata": {},
   "outputs": [],
   "source": []
  }
 ],
 "metadata": {
  "kernelspec": {
   "display_name": "Python 3 (ipykernel)",
   "language": "python",
   "name": "python3"
  },
  "language_info": {
   "codemirror_mode": {
    "name": "ipython",
    "version": 3
   },
   "file_extension": ".py",
   "mimetype": "text/x-python",
   "name": "python",
   "nbconvert_exporter": "python",
   "pygments_lexer": "ipython3",
   "version": "3.8.10"
  }
 },
 "nbformat": 4,
 "nbformat_minor": 5
}
