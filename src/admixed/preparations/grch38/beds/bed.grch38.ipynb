{
 "cells": [
  {
   "cell_type": "code",
   "execution_count": 1,
   "id": "2705a843-616a-4f6a-866a-aba5febb81f2",
   "metadata": {},
   "outputs": [],
   "source": [
    "import numpy as np\n",
    "\n",
    "from functools import reduce\n",
    "from operator import xor\n",
    "from itertools import chain\n"
   ]
  },
  {
   "cell_type": "code",
   "execution_count": 2,
   "id": "384e0f48-52dc-485a-87f7-c554d2fe79c8",
   "metadata": {},
   "outputs": [],
   "source": [
    "# two set of intervals intersection \n",
    "def intersections(a,b):\n",
    "    if b==[[]]:\n",
    "        return a\n",
    "    ranges = []\n",
    "    i = j = 0\n",
    "    while i < len(a) and j < len(b):\n",
    "        a_left, a_right = a[i]\n",
    "        b_left, b_right = b[j]\n",
    "\n",
    "        if a_right < b_right:\n",
    "            i += 1\n",
    "        else:\n",
    "            j += 1\n",
    "\n",
    "        if a_right >= b_left and b_right >= a_left:\n",
    "            end_pts = sorted([a_left, a_right, b_left, b_right])\n",
    "            middle = [end_pts[1], end_pts[2]]\n",
    "            ranges.append(middle)\n",
    "\n",
    "    ri = 0\n",
    "    while ri < len(ranges)-1:\n",
    "        if ranges[ri][1] == ranges[ri+1][0]:\n",
    "            ranges[ri:ri+2] = [[ranges[ri][0], ranges[ri+1][1]]]\n",
    "        ri += 1\n",
    "    return ranges\n",
    "    \n",
    "\n",
    "\n",
    "\n",
    "def exclude_gaps(set1, set2): #set2 is set of gaps [[],[],[]]\n",
    "\n",
    "    l = sorted((reduce(xor, map(set, chain(set1 , set2)))))\n",
    "    XOR=[l[i:i + 2] for i in range(0, len(l), 2)]\n",
    "\n",
    "    return intersections(XOR, set1)\n",
    "\n",
    "\n",
    "def merge_overlap(arr):\n",
    "    # Sort intervals based on start values\n",
    "    arr.sort(key=lambda x: x[0])\n",
    "\n",
    "    res = [arr[0]]\n",
    "\n",
    "    for i in range(1, len(arr)):\n",
    "        last = res[-1]\n",
    "        curr = arr[i]\n",
    "\n",
    "        # If current overlaps with the last\n",
    "        # merged, merge them\n",
    "        if curr[0] <= last[1]:\n",
    "            last[1] = max(last[1], curr[1])\n",
    "        else:\n",
    "            # Add current to the result\n",
    "            res.append(curr)\n",
    "\n",
    "    return res"
   ]
  },
  {
   "cell_type": "code",
   "execution_count": 3,
   "id": "f19285f1-ffc4-4239-b6b9-2a7c4ad8780d",
   "metadata": {},
   "outputs": [],
   "source": [
    "with open('grch38.gaps.bed', 'r') as f:\n",
    "    l=f.readlines()\n",
    "\n",
    "l=[l[i].replace('\\n','').split('\\t') for i in range(len(l))]"
   ]
  },
  {
   "cell_type": "code",
   "execution_count": 4,
   "id": "75f0d04e-5fca-4b6b-9921-9d4c2ebaf303",
   "metadata": {},
   "outputs": [],
   "source": [
    "dct={}\n",
    "chr_mas=['chr'+str(i) for i in range(1,23)]\n",
    "\n",
    "for chr in chr_mas:\n",
    "    dct[chr]=[]\n",
    "\n",
    "for j in l:\n",
    "    if j[0] in chr_mas:\n",
    "        dct[j[0]].append([int(j[1]), int(j[2])])"
   ]
  },
  {
   "cell_type": "code",
   "execution_count": 5,
   "id": "b8c3813d-0b5b-4aad-a445-424ab7c39d4d",
   "metadata": {},
   "outputs": [],
   "source": [
    "dct_bed={}\n",
    "for chr in chr_mas:\n",
    "\n",
    "    m=merge_overlap(dct[chr])\n",
    "\n",
    "    \n",
    "    m1=min([m[i][1] for i in range(len(m))])\n",
    "    m2=max([m[i][0] for i in range(len(m))])\n",
    "    \n",
    "\n",
    "    dct_bed[chr]=exclude_gaps([[m1+1,m2-1]], dct[chr])"
   ]
  },
  {
   "cell_type": "code",
   "execution_count": 6,
   "id": "81ac823f-2e2e-4caa-b2ba-5671d762b701",
   "metadata": {},
   "outputs": [],
   "source": [
    "for chr in chr_mas:\n",
    "    with open(chr+'.grch38.bed', 'w') as f:\n",
    "        for j in dct_bed[chr]:\n",
    "            if j[1]-j[0]>50000:\n",
    "                f.write(chr+'\\t'+str(j[0])+'\\t'+str(j[1])+'\\n')"
   ]
  },
  {
   "cell_type": "code",
   "execution_count": null,
   "id": "a9083436-4c92-45b9-b9b3-49aa8a9c8716",
   "metadata": {},
   "outputs": [],
   "source": []
  },
  {
   "cell_type": "code",
   "execution_count": null,
   "id": "bf50a384-ed54-42a9-9b64-3b9453016048",
   "metadata": {},
   "outputs": [],
   "source": []
  }
 ],
 "metadata": {
  "kernelspec": {
   "display_name": "Python 3 (ipykernel)",
   "language": "python",
   "name": "python3"
  },
  "language_info": {
   "codemirror_mode": {
    "name": "ipython",
    "version": 3
   },
   "file_extension": ".py",
   "mimetype": "text/x-python",
   "name": "python",
   "nbconvert_exporter": "python",
   "pygments_lexer": "ipython3",
   "version": "3.8.10"
  }
 },
 "nbformat": 4,
 "nbformat_minor": 5
}
